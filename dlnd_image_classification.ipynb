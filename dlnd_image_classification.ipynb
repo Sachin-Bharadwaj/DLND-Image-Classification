{
 "cells": [
  {
   "cell_type": "markdown",
   "metadata": {
    "collapsed": true
   },
   "source": [
    "# Image Classification\n",
    "In this project, you'll classify images from the [CIFAR-10 dataset](https://www.cs.toronto.edu/~kriz/cifar.html).  The dataset consists of airplanes, dogs, cats, and other objects. You'll preprocess the images, then train a convolutional neural network on all the samples. The images need to be normalized and the labels need to be one-hot encoded.  You'll get to apply what you learned and build a convolutional, max pooling, dropout, and fully connected layers.  At the end, you'll get to see your neural network's predictions on the sample images.\n",
    "## Get the Data\n",
    "Run the following cell to download the [CIFAR-10 dataset for python](https://www.cs.toronto.edu/~kriz/cifar-10-python.tar.gz)."
   ]
  },
  {
   "cell_type": "code",
   "execution_count": 1,
   "metadata": {},
   "outputs": [
    {
     "name": "stderr",
     "output_type": "stream",
     "text": [
      "CIFAR-10 Dataset: 171MB [00:26, 6.37MB/s]                              \n"
     ]
    },
    {
     "name": "stdout",
     "output_type": "stream",
     "text": [
      "All files found!\n"
     ]
    }
   ],
   "source": [
    "\"\"\"\n",
    "DON'T MODIFY ANYTHING IN THIS CELL THAT IS BELOW THIS LINE\n",
    "\"\"\"\n",
    "from urllib.request import urlretrieve\n",
    "from os.path import isfile, isdir\n",
    "from tqdm import tqdm\n",
    "import problem_unittests as tests\n",
    "import tarfile\n",
    "\n",
    "cifar10_dataset_folder_path = 'cifar-10-batches-py'\n",
    "\n",
    "# Use Floyd's cifar-10 dataset if present\n",
    "floyd_cifar10_location = '/input/cifar-10/python.tar.gz'\n",
    "if isfile(floyd_cifar10_location):\n",
    "    tar_gz_path = floyd_cifar10_location\n",
    "else:\n",
    "    tar_gz_path = 'cifar-10-python.tar.gz'\n",
    "\n",
    "class DLProgress(tqdm):\n",
    "    last_block = 0\n",
    "\n",
    "    def hook(self, block_num=1, block_size=1, total_size=None):\n",
    "        self.total = total_size\n",
    "        self.update((block_num - self.last_block) * block_size)\n",
    "        self.last_block = block_num\n",
    "\n",
    "if not isfile(tar_gz_path):\n",
    "    with DLProgress(unit='B', unit_scale=True, miniters=1, desc='CIFAR-10 Dataset') as pbar:\n",
    "        urlretrieve(\n",
    "            'https://www.cs.toronto.edu/~kriz/cifar-10-python.tar.gz',\n",
    "            tar_gz_path,\n",
    "            pbar.hook)\n",
    "\n",
    "if not isdir(cifar10_dataset_folder_path):\n",
    "    with tarfile.open(tar_gz_path) as tar:\n",
    "        tar.extractall()\n",
    "        tar.close()\n",
    "\n",
    "\n",
    "tests.test_folder_path(cifar10_dataset_folder_path)"
   ]
  },
  {
   "cell_type": "markdown",
   "metadata": {},
   "source": [
    "## Explore the Data\n",
    "The dataset is broken into batches to prevent your machine from running out of memory.  The CIFAR-10 dataset consists of 5 batches, named `data_batch_1`, `data_batch_2`, etc.. Each batch contains the labels and images that are one of the following:\n",
    "* airplane\n",
    "* automobile\n",
    "* bird\n",
    "* cat\n",
    "* deer\n",
    "* dog\n",
    "* frog\n",
    "* horse\n",
    "* ship\n",
    "* truck\n",
    "\n",
    "Understanding a dataset is part of making predictions on the data.  Play around with the code cell below by changing the `batch_id` and `sample_id`. The `batch_id` is the id for a batch (1-5). The `sample_id` is the id for a image and label pair in the batch.\n",
    "\n",
    "Ask yourself \"What are all possible labels?\", \"What is the range of values for the image data?\", \"Are the labels in order or random?\".  Answers to questions like these will help you preprocess the data and end up with better predictions."
   ]
  },
  {
   "cell_type": "code",
   "execution_count": 2,
   "metadata": {},
   "outputs": [
    {
     "name": "stdout",
     "output_type": "stream",
     "text": [
      "\n",
      "Stats of batch 1:\n",
      "Samples: 10000\n",
      "Label Counts: {0: 1005, 1: 974, 2: 1032, 3: 1016, 4: 999, 5: 937, 6: 1030, 7: 1001, 8: 1025, 9: 981}\n",
      "First 20 Labels: [6, 9, 9, 4, 1, 1, 2, 7, 8, 3, 4, 7, 7, 2, 9, 9, 9, 3, 2, 6]\n",
      "\n",
      "Example of Image 5:\n",
      "Image - Min Value: 0 Max Value: 252\n",
      "Image - Shape: (32, 32, 3)\n",
      "Label - Label Id: 1 Name: automobile\n"
     ]
    },
    {
     "data": {
      "image/png": "[encoded data removed]",
      "text/plain": [
       "<matplotlib.figure.Figure at 0x7f5829e90ef0>"
      ]
     },
     "metadata": {
      "image/png": {
       "height": 250,
       "width": 253
      }
     },
     "output_type": "display_data"
    }
   ],
   "source": [
    "%matplotlib inline\n",
    "%config InlineBackend.figure_format = 'retina'\n",
    "\n",
    "import helper\n",
    "import numpy as np\n",
    "\n",
    "# Explore the dataset\n",
    "batch_id = 1\n",
    "sample_id = 5\n",
    "helper.display_stats(cifar10_dataset_folder_path, batch_id, sample_id)"
   ]
  },
  {
   "cell_type": "markdown",
   "metadata": {},
   "source": [
    "## Implement Preprocess Functions\n",
    "### Normalize\n",
    "In the cell below, implement the `normalize` function to take in image data, `x`, and return it as a normalized Numpy array. The values should be in the range of 0 to 1, inclusive.  The return object should be the same shape as `x`."
   ]
  },
  {
   "cell_type": "code",
   "execution_count": 3,
   "metadata": {},
   "outputs": [
    {
     "name": "stdout",
     "output_type": "stream",
     "text": [
      "Tests Passed\n"
     ]
    }
   ],
   "source": [
    "def normalize(x):\n",
    "    \"\"\"\n",
    "    Normalize a list of sample image data in the range of 0 to 1\n",
    "    : x: List of image data.  The image shape is (32, 32, 3)\n",
    "    : return: Numpy array of normalize data\n",
    "    \"\"\"\n",
    "    # TODO: Implement Function\n",
    "    return np.array(x/255.0)\n",
    "\n",
    "\n",
    "\"\"\"\n",
    "DON'T MODIFY ANYTHING IN THIS CELL THAT IS BELOW THIS LINE\n",
    "\"\"\"\n",
    "tests.test_normalize(normalize)"
   ]
  },
  {
   "cell_type": "markdown",
   "metadata": {},
   "source": [
    "### One-hot encode\n",
    "Just like the previous code cell, you'll be implementing a function for preprocessing.  This time, you'll implement the `one_hot_encode` function. The input, `x`, are a list of labels.  Implement the function to return the list of labels as One-Hot encoded Numpy array.  The possible values for labels are 0 to 9. The one-hot encoding function should return the same encoding for each value between each call to `one_hot_encode`.  Make sure to save the map of encodings outside the function.\n",
    "\n",
    "Hint: Don't reinvent the wheel."
   ]
  },
  {
   "cell_type": "code",
   "execution_count": 4,
   "metadata": {},
   "outputs": [
    {
     "name": "stdout",
     "output_type": "stream",
     "text": [
      "Tests Passed\n"
     ]
    }
   ],
   "source": [
    "from sklearn.preprocessing import OneHotEncoder\n",
    "onehotEncoder = OneHotEncoder(n_values=10)\n",
    "\n",
    "def one_hot_encode(x):\n",
    "    \"\"\"\n",
    "    One hot encode a list of sample labels. Return a one-hot encoded vector for each label.\n",
    "    : x: List of sample Labels\n",
    "    : return: Numpy array of one-hot encoded labels\n",
    "    \"\"\"\n",
    "    # TODO: Implement Function\n",
    "    xx = np.array(x).reshape(-1,1)\n",
    "    op = onehotEncoder.fit_transform(xx).toarray()\n",
    "    return op\n",
    "\n",
    "\n",
    "\"\"\"\n",
    "DON'T MODIFY ANYTHING IN THIS CELL THAT IS BELOW THIS LINE\n",
    "\"\"\"\n",
    "tests.test_one_hot_encode(one_hot_encode)"
   ]
  },
  {
   "cell_type": "markdown",
   "metadata": {},
   "source": [
    "### Randomize Data\n",
    "As you saw from exploring the data above, the order of the samples are randomized.  It doesn't hurt to randomize it again, but you don't need to for this dataset."
   ]
  },
  {
   "cell_type": "markdown",
   "metadata": {},
   "source": [
    "## Preprocess all the data and save it\n",
    "Running the code cell below will preprocess all the CIFAR-10 data and save it to file. The code below also uses 10% of the training data for validation."
   ]
  },
  {
   "cell_type": "code",
   "execution_count": 5,
   "metadata": {},
   "outputs": [],
   "source": [
    "\"\"\"\n",
    "DON'T MODIFY ANYTHING IN THIS CELL\n",
    "\"\"\"\n",
    "# Preprocess Training, Validation, and Testing Data\n",
    "helper.preprocess_and_save_data(cifar10_dataset_folder_path, normalize, one_hot_encode)"
   ]
  },
  {
   "cell_type": "markdown",
   "metadata": {},
   "source": [
    "# Check Point\n",
    "This is your first checkpoint.  If you ever decide to come back to this notebook or have to restart the notebook, you can start from here.  The preprocessed data has been saved to disk."
   ]
  },
  {
   "cell_type": "code",
   "execution_count": 6,
   "metadata": {
    "collapsed": true
   },
   "outputs": [],
   "source": [
    "\"\"\"\n",
    "DON'T MODIFY ANYTHING IN THIS CELL\n",
    "\"\"\"\n",
    "import pickle\n",
    "import problem_unittests as tests\n",
    "import helper\n",
    "\n",
    "# Load the Preprocessed Validation data\n",
    "valid_features, valid_labels = pickle.load(open('preprocess_validation.p', mode='rb'))"
   ]
  },
  {
   "cell_type": "markdown",
   "metadata": {},
   "source": [
    "## Build the network\n",
    "For the neural network, you'll build each layer into a function.  Most of the code you've seen has been outside of functions. To test your code more thoroughly, we require that you put each layer in a function.  This allows us to give you better feedback and test for simple mistakes using our unittests before you submit your project.\n",
    "\n",
    ">**Note:** If you're finding it hard to dedicate enough time for this course each week, we've provided a small shortcut to this part of the project. In the next couple of problems, you'll have the option to use classes from the [TensorFlow Layers](https://www.tensorflow.org/api_docs/python/tf/layers) or [TensorFlow Layers (contrib)](https://www.tensorflow.org/api_guides/python/contrib.layers) packages to build each layer, except the layers you build in the \"Convolutional and Max Pooling Layer\" section.  TF Layers is similar to Keras's and TFLearn's abstraction to layers, so it's easy to pickup.\n",
    "\n",
    ">However, if you would like to get the most out of this course, try to solve all the problems _without_ using anything from the TF Layers packages. You **can** still use classes from other packages that happen to have the same name as ones you find in TF Layers! For example, instead of using the TF Layers version of the `conv2d` class, [tf.layers.conv2d](https://www.tensorflow.org/api_docs/python/tf/layers/conv2d), you would want to use the TF Neural Network version of `conv2d`, [tf.nn.conv2d](https://www.tensorflow.org/api_docs/python/tf/nn/conv2d). \n",
    "\n",
    "Let's begin!\n",
    "\n",
    "### Input\n",
    "The neural network needs to read the image data, one-hot encoded labels, and dropout keep probability. Implement the following functions\n",
    "* Implement `neural_net_image_input`\n",
    " * Return a [TF Placeholder](https://www.tensorflow.org/api_docs/python/tf/placeholder)\n",
    " * Set the shape using `image_shape` with batch size set to `None`.\n",
    " * Name the TensorFlow placeholder \"x\" using the TensorFlow `name` parameter in the [TF Placeholder](https://www.tensorflow.org/api_docs/python/tf/placeholder).\n",
    "* Implement `neural_net_label_input`\n",
    " * Return a [TF Placeholder](https://www.tensorflow.org/api_docs/python/tf/placeholder)\n",
    " * Set the shape using `n_classes` with batch size set to `None`.\n",
    " * Name the TensorFlow placeholder \"y\" using the TensorFlow `name` parameter in the [TF Placeholder](https://www.tensorflow.org/api_docs/python/tf/placeholder).\n",
    "* Implement `neural_net_keep_prob_input`\n",
    " * Return a [TF Placeholder](https://www.tensorflow.org/api_docs/python/tf/placeholder) for dropout keep probability.\n",
    " * Name the TensorFlow placeholder \"keep_prob\" using the TensorFlow `name` parameter in the [TF Placeholder](https://www.tensorflow.org/api_docs/python/tf/placeholder).\n",
    "\n",
    "These names will be used at the end of the project to load your saved model.\n",
    "\n",
    "Note: `None` for shapes in TensorFlow allow for a dynamic size."
   ]
  },
  {
   "cell_type": "code",
   "execution_count": 7,
   "metadata": {},
   "outputs": [
    {
     "name": "stdout",
     "output_type": "stream",
     "text": [
      "Image Input Tests Passed.\n",
      "Label Input Tests Passed.\n",
      "Keep Prob Tests Passed.\n"
     ]
    }
   ],
   "source": [
    "import tensorflow as tf\n",
    "\n",
    "def neural_net_image_input(image_shape):\n",
    "    \"\"\"\n",
    "    Return a Tensor for a batch of image input\n",
    "    : image_shape: Shape of the images\n",
    "    : return: Tensor for image input.\n",
    "    \"\"\"\n",
    "    # TODO: Implement Function\n",
    "    return tf.placeholder(tf.float32, shape=(None, *image_shape), name='x')\n",
    "\n",
    "\n",
    "def neural_net_label_input(n_classes):\n",
    "    \"\"\"\n",
    "    Return a Tensor for a batch of label input\n",
    "    : n_classes: Number of classes\n",
    "    : return: Tensor for label input.\n",
    "    \"\"\"\n",
    "    # TODO: Implement Function\n",
    "    return tf.placeholder(tf.float32, shape=(None, n_classes), name='y')\n",
    "\n",
    "\n",
    "def neural_net_keep_prob_input():\n",
    "    \"\"\"\n",
    "    Return a Tensor for keep probability\n",
    "    : return: Tensor for keep probability.\n",
    "    \"\"\"\n",
    "    # TODO: Implement Function\n",
    "    return tf.placeholder(tf.float32, name='keep_prob')\n",
    "\n",
    "\n",
    "\"\"\"\n",
    "DON'T MODIFY ANYTHING IN THIS CELL THAT IS BELOW THIS LINE\n",
    "\"\"\"\n",
    "tf.reset_default_graph()\n",
    "tests.test_nn_image_inputs(neural_net_image_input)\n",
    "tests.test_nn_label_inputs(neural_net_label_input)\n",
    "tests.test_nn_keep_prob_inputs(neural_net_keep_prob_input)"
   ]
  },
  {
   "cell_type": "markdown",
   "metadata": {},
   "source": [
    "### Convolution and Max Pooling Layer\n",
    "Convolution layers have a lot of success with images. For this code cell, you should implement the function `conv2d_maxpool` to apply convolution then max pooling:\n",
    "* Create the weight and bias using `conv_ksize`, `conv_num_outputs` and the shape of `x_tensor`.\n",
    "* Apply a convolution to `x_tensor` using weight and `conv_strides`.\n",
    " * We recommend you use same padding, but you're welcome to use any padding.\n",
    "* Add bias\n",
    "* Add a nonlinear activation to the convolution.\n",
    "* Apply Max Pooling using `pool_ksize` and `pool_strides`.\n",
    " * We recommend you use same padding, but you're welcome to use any padding.\n",
    "\n",
    "**Note:** You **can't** use [TensorFlow Layers](https://www.tensorflow.org/api_docs/python/tf/layers) or [TensorFlow Layers (contrib)](https://www.tensorflow.org/api_guides/python/contrib.layers) for **this** layer, but you can still use TensorFlow's [Neural Network](https://www.tensorflow.org/api_docs/python/tf/nn) package. You may still use the shortcut option for all the **other** layers."
   ]
  },
  {
   "cell_type": "code",
   "execution_count": 8,
   "metadata": {},
   "outputs": [
    {
     "name": "stdout",
     "output_type": "stream",
     "text": [
      "Tests Passed\n"
     ]
    }
   ],
   "source": [
    "def conv2d_maxpool(x_tensor, conv_num_outputs, conv_ksize, conv_strides, pool_ksize, pool_strides):\n",
    "    \"\"\"\n",
    "    Apply convolution then max pooling to x_tensor\n",
    "    :param x_tensor: TensorFlow Tensor\n",
    "    :param conv_num_outputs: Number of outputs for the convolutional layer\n",
    "    :param conv_ksize: kernal size 2-D Tuple for the convolutional layer\n",
    "    :param conv_strides: Stride 2-D Tuple for convolution\n",
    "    :param pool_ksize: kernal size 2-D Tuple for pool\n",
    "    :param pool_strides: Stride 2-D Tuple for pool\n",
    "    : return: A tensor that represents convolution and max pooling of x_tensor\n",
    "    \"\"\"\n",
    "    # TODO: Implement Function\n",
    "    depth = x_tensor.get_shape().as_list()[3]\n",
    "    weight = tf.Variable(tf.truncated_normal([*conv_ksize,depth,conv_num_outputs], mean=.0, stddev=.01))\n",
    "    bias = tf.Variable(0.1*tf.zeros(conv_num_outputs))\n",
    "    padding = 'SAME'\n",
    "    \n",
    "    conv = tf.nn.conv2d(x_tensor, weight, padding=padding, strides=[1,*conv_strides,1])\n",
    "    conv = tf.nn.bias_add(conv, bias)\n",
    "    conv = tf.nn.relu(conv)\n",
    "    op   = tf.nn.max_pool(value=conv, ksize=[1,*pool_ksize,1], strides=[1,*pool_strides,1], padding=padding, name='max_pool') \n",
    "    \n",
    "    return op\n",
    "\n",
    "\n",
    "\"\"\"\n",
    "DON'T MODIFY ANYTHING IN THIS CELL THAT IS BELOW THIS LINE\n",
    "\"\"\"\n",
    "tests.test_con_pool(conv2d_maxpool)"
   ]
  },
  {
   "cell_type": "markdown",
   "metadata": {},
   "source": [
    "### Flatten Layer\n",
    "Implement the `flatten` function to change the dimension of `x_tensor` from a 4-D tensor to a 2-D tensor.  The output should be the shape (*Batch Size*, *Flattened Image Size*). Shortcut option: you can use classes from the [TensorFlow Layers](https://www.tensorflow.org/api_docs/python/tf/layers) or [TensorFlow Layers (contrib)](https://www.tensorflow.org/api_guides/python/contrib.layers) packages for this layer. For more of a challenge, only use other TensorFlow packages."
   ]
  },
  {
   "cell_type": "code",
   "execution_count": 9,
   "metadata": {},
   "outputs": [
    {
     "name": "stdout",
     "output_type": "stream",
     "text": [
      "Tests Passed\n"
     ]
    }
   ],
   "source": [
    "def flatten(x_tensor):\n",
    "    \"\"\"\n",
    "    Flatten x_tensor to (Batch Size, Flattened Image Size)\n",
    "    : x_tensor: A tensor of size (Batch Size, ...), where ... are the image dimensions.\n",
    "    : return: A tensor of size (Batch Size, Flattened Image Size).\n",
    "    \"\"\"\n",
    "    # TODO: Implement Function\n",
    "    op_dim = 1\n",
    "    for shape in  x_tensor.get_shape().as_list()[1:]:\n",
    "        op_dim *= shape\n",
    "        \n",
    "    return tf.reshape(x_tensor, [-1, op_dim]) \n",
    "   \n",
    "\n",
    "\n",
    "\"\"\"\n",
    "DON'T MODIFY ANYTHING IN THIS CELL THAT IS BELOW THIS LINE\n",
    "\"\"\"\n",
    "tests.test_flatten(flatten)"
   ]
  },
  {
   "cell_type": "markdown",
   "metadata": {},
   "source": [
    "### Fully-Connected Layer\n",
    "Implement the `fully_conn` function to apply a fully connected layer to `x_tensor` with the shape (*Batch Size*, *num_outputs*). Shortcut option: you can use classes from the [TensorFlow Layers](https://www.tensorflow.org/api_docs/python/tf/layers) or [TensorFlow Layers (contrib)](https://www.tensorflow.org/api_guides/python/contrib.layers) packages for this layer. For more of a challenge, only use other TensorFlow packages."
   ]
  },
  {
   "cell_type": "code",
   "execution_count": 10,
   "metadata": {},
   "outputs": [
    {
     "name": "stdout",
     "output_type": "stream",
     "text": [
      "Tests Passed\n"
     ]
    }
   ],
   "source": [
    "def fully_conn(x_tensor, num_outputs):\n",
    "    \"\"\"\n",
    "    Apply a fully connected layer to x_tensor using weight and bias\n",
    "    : x_tensor: A 2-D tensor where the first dimension is batch size.\n",
    "    : num_outputs: The number of output that the new tensor should be.\n",
    "    : return: A 2-D tensor where the second dimension is num_outputs.\n",
    "    \"\"\"\n",
    "    # TODO: Implement Function\n",
    "    # TODO: Implement Function\n",
    "    batch_size = x_tensor.get_shape().as_list()[-1]\n",
    "    weights    = tf.Variable(tf.truncated_normal([batch_size, num_outputs], mean=.0, stddev=.01), name=\"weights_FC\")\n",
    "    bias       = tf.Variable(tf.zeros([num_outputs]), name=\"bias_FC\")\n",
    "    linear     = tf.nn.bias_add(tf.matmul(x_tensor, weights), bias)\n",
    "    op         = tf.nn.relu(linear)\n",
    "    \n",
    "    return op\n",
    "\n",
    "    \n",
    "\n",
    "\n",
    "\"\"\"\n",
    "DON'T MODIFY ANYTHING IN THIS CELL THAT IS BELOW THIS LINE\n",
    "\"\"\"\n",
    "tests.test_fully_conn(fully_conn)"
   ]
  },
  {
   "cell_type": "markdown",
   "metadata": {},
   "source": [
    "### Output Layer\n",
    "Implement the `output` function to apply a fully connected layer to `x_tensor` with the shape (*Batch Size*, *num_outputs*). Shortcut option: you can use classes from the [TensorFlow Layers](https://www.tensorflow.org/api_docs/python/tf/layers) or [TensorFlow Layers (contrib)](https://www.tensorflow.org/api_guides/python/contrib.layers) packages for this layer. For more of a challenge, only use other TensorFlow packages.\n",
    "\n",
    "**Note:** Activation, softmax, or cross entropy should **not** be applied to this."
   ]
  },
  {
   "cell_type": "code",
   "execution_count": 11,
   "metadata": {},
   "outputs": [
    {
     "name": "stdout",
     "output_type": "stream",
     "text": [
      "Tests Passed\n"
     ]
    }
   ],
   "source": [
    "def output(x_tensor, num_outputs):\n",
    "    \"\"\"\n",
    "    Apply a output layer to x_tensor using weight and bias\n",
    "    : x_tensor: A 2-D tensor where the first dimension is batch size.\n",
    "    : num_outputs: The number of output that the new tensor should be.\n",
    "    : return: A 2-D tensor where the second dimension is num_outputs.\n",
    "    \"\"\"\n",
    "    # TODO: Implement Function\n",
    "    depth   = x_tensor.get_shape().as_list()[-1]\n",
    "    weights = tf.Variable(tf.random_normal([depth, num_outputs], mean=.0, stddev=.01), name=\"weights_FC\")\n",
    "    bias    = tf.Variable(tf.zeros([num_outputs]))\n",
    "    op      = tf.nn.bias_add(tf.matmul(x_tensor, weights), bias)\n",
    "    \n",
    "    return op\n",
    "    \n",
    "\n",
    "\n",
    "\"\"\"\n",
    "DON'T MODIFY ANYTHING IN THIS CELL THAT IS BELOW THIS LINE\n",
    "\"\"\"\n",
    "tests.test_output(output)"
   ]
  },
  {
   "cell_type": "markdown",
   "metadata": {},
   "source": [
    "### Create Convolutional Model\n",
    "Implement the function `conv_net` to create a convolutional neural network model. The function takes in a batch of images, `x`, and outputs logits.  Use the layers you created above to create this model:\n",
    "\n",
    "* Apply 1, 2, or 3 Convolution and Max Pool layers\n",
    "* Apply a Flatten Layer\n",
    "* Apply 1, 2, or 3 Fully Connected Layers\n",
    "* Apply an Output Layer\n",
    "* Return the output\n",
    "* Apply [TensorFlow's Dropout](https://www.tensorflow.org/api_docs/python/tf/nn/dropout) to one or more layers in the model using `keep_prob`. "
   ]
  },
  {
   "cell_type": "code",
   "execution_count": 12,
   "metadata": {},
   "outputs": [
    {
     "name": "stdout",
     "output_type": "stream",
     "text": [
      "Neural Network Built!\n"
     ]
    }
   ],
   "source": [
    "def conv_net(x, keep_prob):\n",
    "    \"\"\"\n",
    "    Create a convolutional neural network model\n",
    "    : x: Placeholder tensor that holds image data.\n",
    "    : keep_prob: Placeholder tensor that hold dropout keep probability.\n",
    "    : return: Tensor that represents logits\n",
    "    \"\"\"\n",
    "    # TODO: Apply 1, 2, or 3 Convolution and Max Pool layers\n",
    "    #    Play around with different number of outputs, kernel size and stride\n",
    "    # Function Definition from Above:\n",
    "    #    conv2d_maxpool(x_tensor, conv_num_outputs, conv_ksize, conv_strides, pool_ksize, pool_strides)\n",
    "    conv_num_outputs = [64,128]\n",
    "\n",
    "    conv_strides = [(2,2), (2,2)]\n",
    "    conv_ksize = [(4,4), (6,6)]\n",
    "\n",
    "    pool_ksize = (4,4)\n",
    "    pool_strides = (2,2)\n",
    "    \n",
    "    conv_layer_1 = conv2d_maxpool(x, conv_num_outputs[0], conv_ksize[0], conv_strides[0], pool_ksize, pool_strides)\n",
    "\n",
    "    conv_layer_2 = conv2d_maxpool(conv_layer_1,conv_num_outputs[1], conv_ksize[1], conv_strides[1], pool_ksize, pool_strides)\n",
    "\n",
    "    conv_layer_2 = tf.nn.dropout(conv_layer_2, keep_prob)\n",
    "    \n",
    "\n",
    "    # TODO: Apply a Flatten Layer\n",
    "    # Function Definition from Above:\n",
    "    #   flatten(x_tensor)\n",
    "    flatten_op = flatten(conv_layer_2)\n",
    "    \n",
    "\n",
    "    # TODO: Apply 1, 2, or 3 Fully Connected Layers\n",
    "    #    Play around with different number of outputs\n",
    "    # Function Definition from Above:\n",
    "    #   fully_conn(x_tensor, num_outputs)\n",
    "    fc1_op = fully_conn(flatten_op, 256)\n",
    "    fc1_op = tf.nn.dropout(fc1_op, keep_prob)\n",
    "    fc2_op = fully_conn(fc1_op, 128)\n",
    "    \n",
    "    \n",
    "    # TODO: Apply an Output Layer\n",
    "    #    Set this to the number of classes\n",
    "    # Function Definition from Above:\n",
    "    #   output(x_tensor, num_outputs)\n",
    "    \n",
    "    final_op = output(fc2_op, 10)\n",
    "    \n",
    "    # TODO: return output\n",
    "    return final_op\n",
    "\n",
    "\n",
    "\"\"\"\n",
    "DON'T MODIFY ANYTHING IN THIS CELL THAT IS BELOW THIS LINE\n",
    "\"\"\"\n",
    "\n",
    "##############################\n",
    "## Build the Neural Network ##\n",
    "##############################\n",
    "\n",
    "# Remove previous weights, bias, inputs, etc..\n",
    "tf.reset_default_graph()\n",
    "\n",
    "# Inputs\n",
    "x = neural_net_image_input((32, 32, 3))\n",
    "y = neural_net_label_input(10)\n",
    "keep_prob = neural_net_keep_prob_input()\n",
    "\n",
    "# Model\n",
    "logits = conv_net(x, keep_prob)\n",
    "\n",
    "# Name logits Tensor, so that is can be loaded from disk after training\n",
    "logits = tf.identity(logits, name='logits')\n",
    "\n",
    "# Loss and Optimizer\n",
    "cost = tf.reduce_mean(tf.nn.softmax_cross_entropy_with_logits(logits=logits, labels=y))\n",
    "optimizer = tf.train.AdamOptimizer().minimize(cost)\n",
    "\n",
    "# Accuracy\n",
    "correct_pred = tf.equal(tf.argmax(logits, 1), tf.argmax(y, 1))\n",
    "accuracy = tf.reduce_mean(tf.cast(correct_pred, tf.float32), name='accuracy')\n",
    "\n",
    "tests.test_conv_net(conv_net)"
   ]
  },
  {
   "cell_type": "markdown",
   "metadata": {},
   "source": [
    "## Train the Neural Network\n",
    "### Single Optimization\n",
    "Implement the function `train_neural_network` to do a single optimization.  The optimization should use `optimizer` to optimize in `session` with a `feed_dict` of the following:\n",
    "* `x` for image input\n",
    "* `y` for labels\n",
    "* `keep_prob` for keep probability for dropout\n",
    "\n",
    "This function will be called for each batch, so `tf.global_variables_initializer()` has already been called.\n",
    "\n",
    "Note: Nothing needs to be returned. This function is only optimizing the neural network."
   ]
  },
  {
   "cell_type": "code",
   "execution_count": 13,
   "metadata": {},
   "outputs": [
    {
     "name": "stdout",
     "output_type": "stream",
     "text": [
      "Tests Passed\n"
     ]
    }
   ],
   "source": [
    "def train_neural_network(session, optimizer, keep_probability, feature_batch, label_batch):\n",
    "    \"\"\"\n",
    "    Optimize the session on a batch of images and labels\n",
    "    : session: Current TensorFlow session\n",
    "    : optimizer: TensorFlow optimizer function\n",
    "    : keep_probability: keep probability\n",
    "    : feature_batch: Batch of Numpy image data\n",
    "    : label_batch: Batch of Numpy label data\n",
    "    \"\"\"\n",
    "    # TODO: Implement Function\n",
    "    session.run(optimizer, feed_dict={x: feature_batch, y: label_batch, keep_prob: keep_probability})\n",
    "\n",
    "\n",
    "\"\"\"\n",
    "DON'T MODIFY ANYTHING IN THIS CELL THAT IS BELOW THIS LINE\n",
    "\"\"\"\n",
    "tests.test_train_nn(train_neural_network)"
   ]
  },
  {
   "cell_type": "markdown",
   "metadata": {},
   "source": [
    "### Show Stats\n",
    "Implement the function `print_stats` to print loss and validation accuracy.  Use the global variables `valid_features` and `valid_labels` to calculate validation accuracy.  Use a keep probability of `1.0` to calculate the loss and validation accuracy."
   ]
  },
  {
   "cell_type": "code",
   "execution_count": 14,
   "metadata": {},
   "outputs": [],
   "source": [
    "def print_stats(session, feature_batch, label_batch, cost, accuracy):\n",
    "    \"\"\"\n",
    "    Print information about loss and validation accuracy\n",
    "    : session: Current TensorFlow session\n",
    "    : feature_batch: Batch of Numpy image data\n",
    "    : label_batch: Batch of Numpy label data\n",
    "    : cost: TensorFlow cost function\n",
    "    : accuracy: TensorFlow accuracy function\n",
    "    \"\"\"\n",
    "    # TODO: Implement Function\n",
    "    cost = sess.run(cost, feed_dict={x: feature_batch, y: label_batch, keep_prob: 1.})\n",
    "    acc = sess.run(accuracy, feed_dict={x: valid_features, y: valid_labels, keep_prob: 1.})\n",
    "    print('Loss: {}, acc: {}'.format(cost, acc))"
   ]
  },
  {
   "cell_type": "markdown",
   "metadata": {},
   "source": [
    "### Hyperparameters\n",
    "Tune the following parameters:\n",
    "* Set `epochs` to the number of iterations until the network stops learning or start overfitting\n",
    "* Set `batch_size` to the highest number that your machine has memory for.  Most people set them to common sizes of memory:\n",
    " * 64\n",
    " * 128\n",
    " * 256\n",
    " * ...\n",
    "* Set `keep_probability` to the probability of keeping a node using dropout"
   ]
  },
  {
   "cell_type": "code",
   "execution_count": 15,
   "metadata": {
    "collapsed": true
   },
   "outputs": [],
   "source": [
    "# TODO: Tune Parameters\n",
    "epochs = 50\n",
    "batch_size = 256\n",
    "keep_probability = 0.5"
   ]
  },
  {
   "cell_type": "markdown",
   "metadata": {},
   "source": [
    "### Train on a Single CIFAR-10 Batch\n",
    "Instead of training the neural network on all the CIFAR-10 batches of data, let's use a single batch. This should save time while you iterate on the model to get a better accuracy.  Once the final validation accuracy is 50% or greater, run the model on all the data in the next section."
   ]
  },
  {
   "cell_type": "code",
   "execution_count": 16,
   "metadata": {},
   "outputs": [
    {
     "name": "stdout",
     "output_type": "stream",
     "text": [
      "Checking the Training on a Single Batch...\n",
      "Epoch  1, CIFAR-10 Batch 1:  Loss: 2.2407913208007812, acc: 0.16579999029636383\n",
      "Epoch  2, CIFAR-10 Batch 1:  Loss: 2.1516973972320557, acc: 0.20419998466968536\n",
      "Epoch  3, CIFAR-10 Batch 1:  Loss: 2.066877841949463, acc: 0.21160000562667847\n",
      "Epoch  4, CIFAR-10 Batch 1:  Loss: 2.011859893798828, acc: 0.23159998655319214\n",
      "Epoch  5, CIFAR-10 Batch 1:  Loss: 1.9508030414581299, acc: 0.28039997816085815\n",
      "Epoch  6, CIFAR-10 Batch 1:  Loss: 1.865541696548462, acc: 0.29899996519088745\n",
      "Epoch  7, CIFAR-10 Batch 1:  Loss: 1.780472755432129, acc: 0.3319999873638153\n",
      "Epoch  8, CIFAR-10 Batch 1:  Loss: 1.6743189096450806, acc: 0.34380000829696655\n",
      "Epoch  9, CIFAR-10 Batch 1:  Loss: 1.586777925491333, acc: 0.36579999327659607\n",
      "Epoch 10, CIFAR-10 Batch 1:  Loss: 1.5405102968215942, acc: 0.37220001220703125\n",
      "Epoch 11, CIFAR-10 Batch 1:  Loss: 1.4528205394744873, acc: 0.38499999046325684\n",
      "Epoch 12, CIFAR-10 Batch 1:  Loss: 1.403456211090088, acc: 0.39800000190734863\n",
      "Epoch 13, CIFAR-10 Batch 1:  Loss: 1.3264256715774536, acc: 0.40679994225502014\n",
      "Epoch 14, CIFAR-10 Batch 1:  Loss: 1.3084287643432617, acc: 0.4177999794483185\n",
      "Epoch 15, CIFAR-10 Batch 1:  Loss: 1.242781400680542, acc: 0.4375999867916107\n",
      "Epoch 16, CIFAR-10 Batch 1:  Loss: 1.160948634147644, acc: 0.4431999921798706\n",
      "Epoch 17, CIFAR-10 Batch 1:  Loss: 1.14508855342865, acc: 0.4269999861717224\n",
      "Epoch 18, CIFAR-10 Batch 1:  Loss: 1.0181918144226074, acc: 0.46699994802474976\n",
      "Epoch 19, CIFAR-10 Batch 1:  Loss: 1.0031054019927979, acc: 0.4765999913215637\n",
      "Epoch 20, CIFAR-10 Batch 1:  Loss: 0.8893522024154663, acc: 0.4853999614715576\n",
      "Epoch 21, CIFAR-10 Batch 1:  Loss: 0.8289824724197388, acc: 0.48159995675086975\n",
      "Epoch 22, CIFAR-10 Batch 1:  Loss: 0.8160083889961243, acc: 0.48499995470046997\n",
      "Epoch 23, CIFAR-10 Batch 1:  Loss: 0.7999634742736816, acc: 0.5119999647140503\n",
      "Epoch 24, CIFAR-10 Batch 1:  Loss: 0.7266663312911987, acc: 0.5101999044418335\n",
      "Epoch 25, CIFAR-10 Batch 1:  Loss: 0.690937340259552, acc: 0.506399929523468\n",
      "Epoch 26, CIFAR-10 Batch 1:  Loss: 0.7202839851379395, acc: 0.5123999714851379\n",
      "Epoch 27, CIFAR-10 Batch 1:  Loss: 0.6509080529212952, acc: 0.5163999795913696\n",
      "Epoch 28, CIFAR-10 Batch 1:  Loss: 0.6090049743652344, acc: 0.5173999667167664\n",
      "Epoch 29, CIFAR-10 Batch 1:  Loss: 0.5823802351951599, acc: 0.5083999633789062\n",
      "Epoch 30, CIFAR-10 Batch 1:  Loss: 0.5518766045570374, acc: 0.5335999727249146\n",
      "Epoch 31, CIFAR-10 Batch 1:  Loss: 0.5356361269950867, acc: 0.5302000045776367\n",
      "Epoch 32, CIFAR-10 Batch 1:  Loss: 0.5148634910583496, acc: 0.5235999822616577\n",
      "Epoch 33, CIFAR-10 Batch 1:  Loss: 0.5005039572715759, acc: 0.5239999294281006\n",
      "Epoch 34, CIFAR-10 Batch 1:  Loss: 0.5031698346138, acc: 0.5333999395370483\n",
      "Epoch 35, CIFAR-10 Batch 1:  Loss: 0.4586358666419983, acc: 0.5371999740600586\n",
      "Epoch 36, CIFAR-10 Batch 1:  Loss: 0.48048126697540283, acc: 0.5432000160217285\n",
      "Epoch 37, CIFAR-10 Batch 1:  Loss: 0.4474489688873291, acc: 0.5465999841690063\n",
      "Epoch 38, CIFAR-10 Batch 1:  Loss: 0.4570155441761017, acc: 0.533599853515625\n",
      "Epoch 39, CIFAR-10 Batch 1:  Loss: 0.4070855379104614, acc: 0.5403999090194702\n",
      "Epoch 40, CIFAR-10 Batch 1:  Loss: 0.3729381263256073, acc: 0.5359998941421509\n",
      "Epoch 41, CIFAR-10 Batch 1:  Loss: 0.33868566155433655, acc: 0.5463999509811401\n",
      "Epoch 42, CIFAR-10 Batch 1:  Loss: 0.31912416219711304, acc: 0.5403999090194702\n",
      "Epoch 43, CIFAR-10 Batch 1:  Loss: 0.28934144973754883, acc: 0.5507999062538147\n",
      "Epoch 44, CIFAR-10 Batch 1:  Loss: 0.29742562770843506, acc: 0.5381999015808105\n",
      "Epoch 45, CIFAR-10 Batch 1:  Loss: 0.26984941959381104, acc: 0.5443998575210571\n",
      "Epoch 46, CIFAR-10 Batch 1:  Loss: 0.3024812340736389, acc: 0.5324000120162964\n",
      "Epoch 47, CIFAR-10 Batch 1:  Loss: 0.26914140582084656, acc: 0.5435999035835266\n",
      "Epoch 48, CIFAR-10 Batch 1:  Loss: 0.21227504312992096, acc: 0.5243999361991882\n",
      "Epoch 49, CIFAR-10 Batch 1:  Loss: 0.20154204964637756, acc: 0.5327999591827393\n",
      "Epoch 50, CIFAR-10 Batch 1:  Loss: 0.1944982260465622, acc: 0.5417999029159546\n"
     ]
    }
   ],
   "source": [
    "\"\"\"\n",
    "DON'T MODIFY ANYTHING IN THIS CELL\n",
    "\"\"\"\n",
    "print('Checking the Training on a Single Batch...')\n",
    "with tf.Session() as sess:\n",
    "    # Initializing the variables\n",
    "    sess.run(tf.global_variables_initializer())\n",
    "    \n",
    "    # Training cycle\n",
    "    for epoch in range(epochs):\n",
    "        batch_i = 1\n",
    "        for batch_features, batch_labels in helper.load_preprocess_training_batch(batch_i, batch_size):\n",
    "            train_neural_network(sess, optimizer, keep_probability, batch_features, batch_labels)\n",
    "        print('Epoch {:>2}, CIFAR-10 Batch {}:  '.format(epoch + 1, batch_i), end='')\n",
    "        print_stats(sess, batch_features, batch_labels, cost, accuracy)"
   ]
  },
  {
   "cell_type": "markdown",
   "metadata": {},
   "source": [
    "### Fully Train the Model\n",
    "Now that you got a good accuracy with a single CIFAR-10 batch, try it with all five batches."
   ]
  },
  {
   "cell_type": "code",
   "execution_count": 17,
   "metadata": {},
   "outputs": [
    {
     "name": "stdout",
     "output_type": "stream",
     "text": [
      "Training...\n",
      "Epoch  1, CIFAR-10 Batch 1:  Loss: 2.241483211517334, acc: 0.16939999163150787\n",
      "Epoch  1, CIFAR-10 Batch 2:  Loss: 1.9605294466018677, acc: 0.19539999961853027\n",
      "Epoch  1, CIFAR-10 Batch 3:  Loss: 1.7857074737548828, acc: 0.19460000097751617\n",
      "Epoch  1, CIFAR-10 Batch 4:  Loss: 1.8399909734725952, acc: 0.22199998795986176\n",
      "Epoch  1, CIFAR-10 Batch 5:  Loss: 1.8902407884597778, acc: 0.24119998514652252\n",
      "Epoch  2, CIFAR-10 Batch 1:  Loss: 2.118683338165283, acc: 0.26639997959136963\n",
      "Epoch  2, CIFAR-10 Batch 2:  Loss: 1.8516488075256348, acc: 0.2815999984741211\n",
      "Epoch  2, CIFAR-10 Batch 3:  Loss: 1.6481659412384033, acc: 0.2687999904155731\n",
      "Epoch  2, CIFAR-10 Batch 4:  Loss: 1.6428791284561157, acc: 0.3229999542236328\n",
      "Epoch  2, CIFAR-10 Batch 5:  Loss: 1.6578067541122437, acc: 0.32659998536109924\n",
      "Epoch  3, CIFAR-10 Batch 1:  Loss: 1.8547348976135254, acc: 0.3455999493598938\n",
      "Epoch  3, CIFAR-10 Batch 2:  Loss: 1.7425472736358643, acc: 0.3569999933242798\n",
      "Epoch  3, CIFAR-10 Batch 3:  Loss: 1.2923165559768677, acc: 0.36180001497268677\n",
      "Epoch  3, CIFAR-10 Batch 4:  Loss: 1.604570746421814, acc: 0.387999951839447\n",
      "Epoch  3, CIFAR-10 Batch 5:  Loss: 1.5544383525848389, acc: 0.38940000534057617\n",
      "Epoch  4, CIFAR-10 Batch 1:  Loss: 1.6444809436798096, acc: 0.4195999503135681\n",
      "Epoch  4, CIFAR-10 Batch 2:  Loss: 1.5402445793151855, acc: 0.4301999807357788\n",
      "Epoch  4, CIFAR-10 Batch 3:  Loss: 1.1594960689544678, acc: 0.4479999542236328\n",
      "Epoch  4, CIFAR-10 Batch 4:  Loss: 1.519354224205017, acc: 0.45879995822906494\n",
      "Epoch  4, CIFAR-10 Batch 5:  Loss: 1.4215950965881348, acc: 0.44439998269081116\n",
      "Epoch  5, CIFAR-10 Batch 1:  Loss: 1.362929105758667, acc: 0.47679996490478516\n",
      "Epoch  5, CIFAR-10 Batch 2:  Loss: 1.4254587888717651, acc: 0.4793999493122101\n",
      "Epoch  5, CIFAR-10 Batch 3:  Loss: 1.092787265777588, acc: 0.4803999662399292\n",
      "Epoch  5, CIFAR-10 Batch 4:  Loss: 1.4224827289581299, acc: 0.5121999382972717\n",
      "Epoch  5, CIFAR-10 Batch 5:  Loss: 1.2800471782684326, acc: 0.5121999382972717\n",
      "Epoch  6, CIFAR-10 Batch 1:  Loss: 1.2806503772735596, acc: 0.5095999240875244\n",
      "Epoch  6, CIFAR-10 Batch 2:  Loss: 1.3151497840881348, acc: 0.5193999409675598\n",
      "Epoch  6, CIFAR-10 Batch 3:  Loss: 0.9650124311447144, acc: 0.5175999402999878\n",
      "Epoch  6, CIFAR-10 Batch 4:  Loss: 1.2495739459991455, acc: 0.5331999659538269\n",
      "Epoch  6, CIFAR-10 Batch 5:  Loss: 1.1713955402374268, acc: 0.5231999158859253\n",
      "Epoch  7, CIFAR-10 Batch 1:  Loss: 1.1282780170440674, acc: 0.5507999062538147\n",
      "Epoch  7, CIFAR-10 Batch 2:  Loss: 1.2368018627166748, acc: 0.5453999638557434\n",
      "Epoch  7, CIFAR-10 Batch 3:  Loss: 0.9063757658004761, acc: 0.5391998887062073\n",
      "Epoch  7, CIFAR-10 Batch 4:  Loss: 1.1491725444793701, acc: 0.5577999353408813\n",
      "Epoch  7, CIFAR-10 Batch 5:  Loss: 1.0431863069534302, acc: 0.5663999319076538\n",
      "Epoch  8, CIFAR-10 Batch 1:  Loss: 1.070673942565918, acc: 0.5689998865127563\n",
      "Epoch  8, CIFAR-10 Batch 2:  Loss: 1.1031442880630493, acc: 0.5493999123573303\n",
      "Epoch  8, CIFAR-10 Batch 3:  Loss: 0.78195720911026, acc: 0.5681999325752258\n",
      "Epoch  8, CIFAR-10 Batch 4:  Loss: 1.0417861938476562, acc: 0.5631999373435974\n",
      "Epoch  8, CIFAR-10 Batch 5:  Loss: 0.9681364297866821, acc: 0.5749999284744263\n",
      "Epoch  9, CIFAR-10 Batch 1:  Loss: 0.915520429611206, acc: 0.589199960231781\n",
      "Epoch  9, CIFAR-10 Batch 2:  Loss: 1.0440157651901245, acc: 0.5715999603271484\n",
      "Epoch  9, CIFAR-10 Batch 3:  Loss: 0.6603355407714844, acc: 0.5755999088287354\n",
      "Epoch  9, CIFAR-10 Batch 4:  Loss: 0.981920599937439, acc: 0.5653998851776123\n",
      "Epoch  9, CIFAR-10 Batch 5:  Loss: 0.8478721380233765, acc: 0.5819998979568481\n",
      "Epoch 10, CIFAR-10 Batch 1:  Loss: 0.8513801693916321, acc: 0.5867998600006104\n",
      "Epoch 10, CIFAR-10 Batch 2:  Loss: 0.9179951548576355, acc: 0.5833998918533325\n",
      "Epoch 10, CIFAR-10 Batch 3:  Loss: 0.6056535243988037, acc: 0.5973999500274658\n",
      "Epoch 10, CIFAR-10 Batch 4:  Loss: 0.8964008092880249, acc: 0.5799999833106995\n",
      "Epoch 10, CIFAR-10 Batch 5:  Loss: 0.8162140250205994, acc: 0.5999999046325684\n",
      "Epoch 11, CIFAR-10 Batch 1:  Loss: 0.7970343232154846, acc: 0.598599910736084\n",
      "Epoch 11, CIFAR-10 Batch 2:  Loss: 0.8382700681686401, acc: 0.5691999197006226\n",
      "Epoch 11, CIFAR-10 Batch 3:  Loss: 0.5374747514724731, acc: 0.6035999059677124\n",
      "Epoch 11, CIFAR-10 Batch 4:  Loss: 0.7572818398475647, acc: 0.6017999053001404\n",
      "Epoch 11, CIFAR-10 Batch 5:  Loss: 0.7736176252365112, acc: 0.6093999147415161\n",
      "Epoch 12, CIFAR-10 Batch 1:  Loss: 0.7850327491760254, acc: 0.6017999053001404\n",
      "Epoch 12, CIFAR-10 Batch 2:  Loss: 0.7757083177566528, acc: 0.6019999384880066\n",
      "Epoch 12, CIFAR-10 Batch 3:  Loss: 0.47953230142593384, acc: 0.5957999229431152\n",
      "Epoch 12, CIFAR-10 Batch 4:  Loss: 0.6374940872192383, acc: 0.6109998822212219\n",
      "Epoch 12, CIFAR-10 Batch 5:  Loss: 0.686279296875, acc: 0.5881999135017395\n",
      "Epoch 13, CIFAR-10 Batch 1:  Loss: 0.685356855392456, acc: 0.6059998869895935\n",
      "Epoch 13, CIFAR-10 Batch 2:  Loss: 0.6430773735046387, acc: 0.6129999160766602\n",
      "Epoch 13, CIFAR-10 Batch 3:  Loss: 0.4301217794418335, acc: 0.6177998781204224\n",
      "Epoch 13, CIFAR-10 Batch 4:  Loss: 0.5684171915054321, acc: 0.625999927520752\n",
      "Epoch 13, CIFAR-10 Batch 5:  Loss: 0.5676761865615845, acc: 0.613399863243103\n",
      "Epoch 14, CIFAR-10 Batch 1:  Loss: 0.6943145394325256, acc: 0.618399977684021\n",
      "Epoch 14, CIFAR-10 Batch 2:  Loss: 0.5520113110542297, acc: 0.6299998760223389\n",
      "Epoch 14, CIFAR-10 Batch 3:  Loss: 0.38783326745033264, acc: 0.6187999248504639\n",
      "Epoch 14, CIFAR-10 Batch 4:  Loss: 0.5927261710166931, acc: 0.6197999119758606\n",
      "Epoch 14, CIFAR-10 Batch 5:  Loss: 0.5611387491226196, acc: 0.6027998924255371\n",
      "Epoch 15, CIFAR-10 Batch 1:  Loss: 0.6449234485626221, acc: 0.6267998814582825\n",
      "Epoch 15, CIFAR-10 Batch 2:  Loss: 0.5809139609336853, acc: 0.6183998584747314\n",
      "Epoch 15, CIFAR-10 Batch 3:  Loss: 0.3869643807411194, acc: 0.6199999451637268\n",
      "Epoch 15, CIFAR-10 Batch 4:  Loss: 0.5107157826423645, acc: 0.6283999085426331\n",
      "Epoch 15, CIFAR-10 Batch 5:  Loss: 0.46676725149154663, acc: 0.6205999255180359\n",
      "Epoch 16, CIFAR-10 Batch 1:  Loss: 0.6293679475784302, acc: 0.6205999255180359\n",
      "Epoch 16, CIFAR-10 Batch 2:  Loss: 0.534374475479126, acc: 0.6143999695777893\n",
      "Epoch 16, CIFAR-10 Batch 3:  Loss: 0.33056485652923584, acc: 0.6307998895645142\n",
      "Epoch 16, CIFAR-10 Batch 4:  Loss: 0.43726807832717896, acc: 0.6337998509407043\n",
      "Epoch 16, CIFAR-10 Batch 5:  Loss: 0.4686140716075897, acc: 0.6297999024391174\n",
      "Epoch 17, CIFAR-10 Batch 1:  Loss: 0.6163243651390076, acc: 0.6241998672485352\n",
      "Epoch 17, CIFAR-10 Batch 2:  Loss: 0.4831576943397522, acc: 0.6429998874664307\n",
      "Epoch 17, CIFAR-10 Batch 3:  Loss: 0.2992725074291229, acc: 0.649199903011322\n",
      "Epoch 17, CIFAR-10 Batch 4:  Loss: 0.43369829654693604, acc: 0.6405999064445496\n",
      "Epoch 17, CIFAR-10 Batch 5:  Loss: 0.4010780453681946, acc: 0.6323999166488647\n",
      "Epoch 18, CIFAR-10 Batch 1:  Loss: 0.5426866412162781, acc: 0.6175999045372009\n",
      "Epoch 18, CIFAR-10 Batch 2:  Loss: 0.4468189477920532, acc: 0.6307998895645142\n",
      "Epoch 18, CIFAR-10 Batch 3:  Loss: 0.2639371454715729, acc: 0.6485999226570129\n",
      "Epoch 18, CIFAR-10 Batch 4:  Loss: 0.3931700587272644, acc: 0.6471998691558838\n",
      "Epoch 18, CIFAR-10 Batch 5:  Loss: 0.366108775138855, acc: 0.6455998420715332\n",
      "Epoch 19, CIFAR-10 Batch 1:  Loss: 0.5165388584136963, acc: 0.6279999017715454\n",
      "Epoch 19, CIFAR-10 Batch 2:  Loss: 0.4043326675891876, acc: 0.6591998934745789\n",
      "Epoch 19, CIFAR-10 Batch 3:  Loss: 0.29027098417282104, acc: 0.6561999320983887\n",
      "Epoch 19, CIFAR-10 Batch 4:  Loss: 0.3850705921649933, acc: 0.6517998576164246\n",
      "Epoch 19, CIFAR-10 Batch 5:  Loss: 0.3696103096008301, acc: 0.6469999551773071\n",
      "Epoch 20, CIFAR-10 Batch 1:  Loss: 0.4705367982387543, acc: 0.6355999112129211\n",
      "Epoch 20, CIFAR-10 Batch 2:  Loss: 0.3937109708786011, acc: 0.653999924659729\n",
      "Epoch 20, CIFAR-10 Batch 3:  Loss: 0.25195175409317017, acc: 0.6519998908042908\n",
      "Epoch 20, CIFAR-10 Batch 4:  Loss: 0.33137694001197815, acc: 0.6423999071121216\n",
      "Epoch 20, CIFAR-10 Batch 5:  Loss: 0.3155076503753662, acc: 0.6471999287605286\n",
      "Epoch 21, CIFAR-10 Batch 1:  Loss: 0.5151917934417725, acc: 0.6213999390602112\n",
      "Epoch 21, CIFAR-10 Batch 2:  Loss: 0.3384632170200348, acc: 0.6561999320983887\n",
      "Epoch 21, CIFAR-10 Batch 3:  Loss: 0.26340803503990173, acc: 0.657599925994873\n",
      "Epoch 21, CIFAR-10 Batch 4:  Loss: 0.2964867353439331, acc: 0.6573998928070068\n"
     ]
    },
    {
     "name": "stdout",
     "output_type": "stream",
     "text": [
      "Epoch 21, CIFAR-10 Batch 5:  Loss: 0.28875988721847534, acc: 0.6513998508453369\n",
      "Epoch 22, CIFAR-10 Batch 1:  Loss: 0.42812076210975647, acc: 0.6509998440742493\n",
      "Epoch 22, CIFAR-10 Batch 2:  Loss: 0.324188768863678, acc: 0.6529998779296875\n",
      "Epoch 22, CIFAR-10 Batch 3:  Loss: 0.2841278314590454, acc: 0.6561998128890991\n",
      "Epoch 22, CIFAR-10 Batch 4:  Loss: 0.296575129032135, acc: 0.660399854183197\n",
      "Epoch 22, CIFAR-10 Batch 5:  Loss: 0.2898065745830536, acc: 0.6545998454093933\n",
      "Epoch 23, CIFAR-10 Batch 1:  Loss: 0.44231995940208435, acc: 0.6517999172210693\n",
      "Epoch 23, CIFAR-10 Batch 2:  Loss: 0.3071938455104828, acc: 0.6627998352050781\n",
      "Epoch 23, CIFAR-10 Batch 3:  Loss: 0.21612194180488586, acc: 0.6597998738288879\n",
      "Epoch 23, CIFAR-10 Batch 4:  Loss: 0.2877653241157532, acc: 0.6597998738288879\n",
      "Epoch 23, CIFAR-10 Batch 5:  Loss: 0.2502184212207794, acc: 0.6565998792648315\n",
      "Epoch 24, CIFAR-10 Batch 1:  Loss: 0.40296274423599243, acc: 0.6573998332023621\n",
      "Epoch 24, CIFAR-10 Batch 2:  Loss: 0.30957749485969543, acc: 0.6751998662948608\n",
      "Epoch 24, CIFAR-10 Batch 3:  Loss: 0.2235516458749771, acc: 0.6721999049186707\n",
      "Epoch 24, CIFAR-10 Batch 4:  Loss: 0.26393064856529236, acc: 0.6535999178886414\n",
      "Epoch 24, CIFAR-10 Batch 5:  Loss: 0.23087617754936218, acc: 0.6783998608589172\n",
      "Epoch 25, CIFAR-10 Batch 1:  Loss: 0.39703965187072754, acc: 0.6517999172210693\n",
      "Epoch 25, CIFAR-10 Batch 2:  Loss: 0.31089141964912415, acc: 0.6527999043464661\n",
      "Epoch 25, CIFAR-10 Batch 3:  Loss: 0.18923114240169525, acc: 0.6665999293327332\n",
      "Epoch 25, CIFAR-10 Batch 4:  Loss: 0.23257005214691162, acc: 0.6629998683929443\n",
      "Epoch 25, CIFAR-10 Batch 5:  Loss: 0.2387610673904419, acc: 0.6693998575210571\n",
      "Epoch 26, CIFAR-10 Batch 1:  Loss: 0.36971303820610046, acc: 0.6519998908042908\n",
      "Epoch 26, CIFAR-10 Batch 2:  Loss: 0.28725823760032654, acc: 0.6643998622894287\n",
      "Epoch 26, CIFAR-10 Batch 3:  Loss: 0.1919158697128296, acc: 0.6609998941421509\n",
      "Epoch 26, CIFAR-10 Batch 4:  Loss: 0.20617495477199554, acc: 0.6671998500823975\n",
      "Epoch 26, CIFAR-10 Batch 5:  Loss: 0.20816166698932648, acc: 0.6639998555183411\n",
      "Epoch 27, CIFAR-10 Batch 1:  Loss: 0.38891690969467163, acc: 0.6559998989105225\n",
      "Epoch 27, CIFAR-10 Batch 2:  Loss: 0.26958999037742615, acc: 0.6587998867034912\n",
      "Epoch 27, CIFAR-10 Batch 3:  Loss: 0.21199463307857513, acc: 0.663399875164032\n",
      "Epoch 27, CIFAR-10 Batch 4:  Loss: 0.20794954895973206, acc: 0.6717998385429382\n",
      "Epoch 27, CIFAR-10 Batch 5:  Loss: 0.2049466371536255, acc: 0.6677999496459961\n",
      "Epoch 28, CIFAR-10 Batch 1:  Loss: 0.38069552183151245, acc: 0.6453998684883118\n",
      "Epoch 28, CIFAR-10 Batch 2:  Loss: 0.23529361188411713, acc: 0.6617999076843262\n",
      "Epoch 28, CIFAR-10 Batch 3:  Loss: 0.155988410115242, acc: 0.669999897480011\n",
      "Epoch 28, CIFAR-10 Batch 4:  Loss: 0.21223905682563782, acc: 0.6709998250007629\n",
      "Epoch 28, CIFAR-10 Batch 5:  Loss: 0.20049142837524414, acc: 0.6785998940467834\n",
      "Epoch 29, CIFAR-10 Batch 1:  Loss: 0.3806467652320862, acc: 0.6597999334335327\n",
      "Epoch 29, CIFAR-10 Batch 2:  Loss: 0.25525736808776855, acc: 0.6617998480796814\n",
      "Epoch 29, CIFAR-10 Batch 3:  Loss: 0.17874404788017273, acc: 0.6741998791694641\n",
      "Epoch 29, CIFAR-10 Batch 4:  Loss: 0.18296967446804047, acc: 0.6631998419761658\n",
      "Epoch 29, CIFAR-10 Batch 5:  Loss: 0.19343002140522003, acc: 0.6713998913764954\n",
      "Epoch 30, CIFAR-10 Batch 1:  Loss: 0.3395105302333832, acc: 0.6675998568534851\n",
      "Epoch 30, CIFAR-10 Batch 2:  Loss: 0.21180459856987, acc: 0.6631998419761658\n",
      "Epoch 30, CIFAR-10 Batch 3:  Loss: 0.19110704958438873, acc: 0.6625998616218567\n",
      "Epoch 30, CIFAR-10 Batch 4:  Loss: 0.17508697509765625, acc: 0.668199896812439\n",
      "Epoch 30, CIFAR-10 Batch 5:  Loss: 0.18744057416915894, acc: 0.6693998575210571\n",
      "Epoch 31, CIFAR-10 Batch 1:  Loss: 0.3220875859260559, acc: 0.6581999063491821\n",
      "Epoch 31, CIFAR-10 Batch 2:  Loss: 0.18359115719795227, acc: 0.671799898147583\n",
      "Epoch 31, CIFAR-10 Batch 3:  Loss: 0.1474287211894989, acc: 0.6677998900413513\n",
      "Epoch 31, CIFAR-10 Batch 4:  Loss: 0.16609159111976624, acc: 0.6737998723983765\n",
      "Epoch 31, CIFAR-10 Batch 5:  Loss: 0.17438934743404388, acc: 0.6721998453140259\n",
      "Epoch 32, CIFAR-10 Batch 1:  Loss: 0.3110734224319458, acc: 0.6705999374389648\n",
      "Epoch 32, CIFAR-10 Batch 2:  Loss: 0.21695946156978607, acc: 0.6691998839378357\n",
      "Epoch 32, CIFAR-10 Batch 3:  Loss: 0.14398249983787537, acc: 0.6721998453140259\n",
      "Epoch 32, CIFAR-10 Batch 4:  Loss: 0.14762839674949646, acc: 0.6835998296737671\n",
      "Epoch 32, CIFAR-10 Batch 5:  Loss: 0.16795578598976135, acc: 0.6785998344421387\n",
      "Epoch 33, CIFAR-10 Batch 1:  Loss: 0.29673245549201965, acc: 0.6625999212265015\n",
      "Epoch 33, CIFAR-10 Batch 2:  Loss: 0.19225065410137177, acc: 0.6515998840332031\n",
      "Epoch 33, CIFAR-10 Batch 3:  Loss: 0.14600583910942078, acc: 0.6657998561859131\n",
      "Epoch 33, CIFAR-10 Batch 4:  Loss: 0.16260623931884766, acc: 0.669999897480011\n",
      "Epoch 33, CIFAR-10 Batch 5:  Loss: 0.16825610399246216, acc: 0.673599898815155\n",
      "Epoch 34, CIFAR-10 Batch 1:  Loss: 0.2553553581237793, acc: 0.6681998372077942\n",
      "Epoch 34, CIFAR-10 Batch 2:  Loss: 0.16829486191272736, acc: 0.6585999131202698\n",
      "Epoch 34, CIFAR-10 Batch 3:  Loss: 0.14197492599487305, acc: 0.6705998778343201\n",
      "Epoch 34, CIFAR-10 Batch 4:  Loss: 0.15137159824371338, acc: 0.6795998811721802\n",
      "Epoch 34, CIFAR-10 Batch 5:  Loss: 0.13857564330101013, acc: 0.6739999055862427\n",
      "Epoch 35, CIFAR-10 Batch 1:  Loss: 0.2673327326774597, acc: 0.6821998357772827\n",
      "Epoch 35, CIFAR-10 Batch 2:  Loss: 0.1795329600572586, acc: 0.6673998832702637\n",
      "Epoch 35, CIFAR-10 Batch 3:  Loss: 0.1353801190853119, acc: 0.6629998683929443\n",
      "Epoch 35, CIFAR-10 Batch 4:  Loss: 0.13654258847236633, acc: 0.6825998425483704\n",
      "Epoch 35, CIFAR-10 Batch 5:  Loss: 0.14692610502243042, acc: 0.6721998453140259\n",
      "Epoch 36, CIFAR-10 Batch 1:  Loss: 0.27760976552963257, acc: 0.6745998859405518\n",
      "Epoch 36, CIFAR-10 Batch 2:  Loss: 0.1634717732667923, acc: 0.6609998941421509\n",
      "Epoch 36, CIFAR-10 Batch 3:  Loss: 0.17865514755249023, acc: 0.6347998976707458\n",
      "Epoch 36, CIFAR-10 Batch 4:  Loss: 0.14344638586044312, acc: 0.6755999326705933\n",
      "Epoch 36, CIFAR-10 Batch 5:  Loss: 0.14926591515541077, acc: 0.6825999021530151\n",
      "Epoch 37, CIFAR-10 Batch 1:  Loss: 0.2516547441482544, acc: 0.6637998819351196\n",
      "Epoch 37, CIFAR-10 Batch 2:  Loss: 0.17415174841880798, acc: 0.6715998649597168\n",
      "Epoch 37, CIFAR-10 Batch 3:  Loss: 0.13067927956581116, acc: 0.6799998879432678\n",
      "Epoch 37, CIFAR-10 Batch 4:  Loss: 0.1559649556875229, acc: 0.6727998852729797\n",
      "Epoch 37, CIFAR-10 Batch 5:  Loss: 0.13469500839710236, acc: 0.6791998744010925\n",
      "Epoch 38, CIFAR-10 Batch 1:  Loss: 0.28511321544647217, acc: 0.6755998730659485\n",
      "Epoch 38, CIFAR-10 Batch 2:  Loss: 0.18418915569782257, acc: 0.6777998805046082\n",
      "Epoch 38, CIFAR-10 Batch 3:  Loss: 0.12174487859010696, acc: 0.666999876499176\n",
      "Epoch 38, CIFAR-10 Batch 4:  Loss: 0.1359095573425293, acc: 0.6849998235702515\n",
      "Epoch 38, CIFAR-10 Batch 5:  Loss: 0.1121361181139946, acc: 0.6809999346733093\n",
      "Epoch 39, CIFAR-10 Batch 1:  Loss: 0.23693633079528809, acc: 0.6635998487472534\n",
      "Epoch 39, CIFAR-10 Batch 2:  Loss: 0.17362356185913086, acc: 0.6669999361038208\n",
      "Epoch 39, CIFAR-10 Batch 3:  Loss: 0.13408972322940826, acc: 0.6645998954772949\n",
      "Epoch 39, CIFAR-10 Batch 4:  Loss: 0.14813852310180664, acc: 0.6839998960494995\n",
      "Epoch 39, CIFAR-10 Batch 5:  Loss: 0.12450692802667618, acc: 0.6735998392105103\n",
      "Epoch 40, CIFAR-10 Batch 1:  Loss: 0.24453069269657135, acc: 0.6697998642921448\n",
      "Epoch 40, CIFAR-10 Batch 2:  Loss: 0.1738484501838684, acc: 0.6733998656272888\n",
      "Epoch 40, CIFAR-10 Batch 3:  Loss: 0.12826374173164368, acc: 0.6619998812675476\n",
      "Epoch 40, CIFAR-10 Batch 4:  Loss: 0.1436523199081421, acc: 0.6799999475479126\n",
      "Epoch 40, CIFAR-10 Batch 5:  Loss: 0.11881111562252045, acc: 0.6797998547554016\n",
      "Epoch 41, CIFAR-10 Batch 1:  Loss: 0.21504998207092285, acc: 0.6821998953819275\n",
      "Epoch 41, CIFAR-10 Batch 2:  Loss: 0.1427503228187561, acc: 0.6663998365402222\n",
      "Epoch 41, CIFAR-10 Batch 3:  Loss: 0.10363400727510452, acc: 0.6751998662948608\n",
      "Epoch 41, CIFAR-10 Batch 4:  Loss: 0.14425063133239746, acc: 0.679599940776825\n",
      "Epoch 41, CIFAR-10 Batch 5:  Loss: 0.09957686811685562, acc: 0.6789999008178711\n",
      "Epoch 42, CIFAR-10 Batch 1:  Loss: 0.21874544024467468, acc: 0.6731999516487122\n",
      "Epoch 42, CIFAR-10 Batch 2:  Loss: 0.13884904980659485, acc: 0.6621999144554138\n"
     ]
    },
    {
     "name": "stdout",
     "output_type": "stream",
     "text": [
      "Epoch 42, CIFAR-10 Batch 3:  Loss: 0.11935742199420929, acc: 0.6695998907089233\n",
      "Epoch 42, CIFAR-10 Batch 4:  Loss: 0.11703011393547058, acc: 0.6839998960494995\n",
      "Epoch 42, CIFAR-10 Batch 5:  Loss: 0.10136616975069046, acc: 0.6777998805046082\n",
      "Epoch 43, CIFAR-10 Batch 1:  Loss: 0.15379005670547485, acc: 0.6817998886108398\n",
      "Epoch 43, CIFAR-10 Batch 2:  Loss: 0.16825221478939056, acc: 0.6655999422073364\n",
      "Epoch 43, CIFAR-10 Batch 3:  Loss: 0.11697026342153549, acc: 0.6707999110221863\n",
      "Epoch 43, CIFAR-10 Batch 4:  Loss: 0.12141488492488861, acc: 0.6779999136924744\n",
      "Epoch 43, CIFAR-10 Batch 5:  Loss: 0.10622283816337585, acc: 0.6777998208999634\n",
      "Epoch 44, CIFAR-10 Batch 1:  Loss: 0.15536701679229736, acc: 0.6729997992515564\n",
      "Epoch 44, CIFAR-10 Batch 2:  Loss: 0.1469593346118927, acc: 0.6717998385429382\n",
      "Epoch 44, CIFAR-10 Batch 3:  Loss: 0.13000904023647308, acc: 0.6691998243331909\n",
      "Epoch 44, CIFAR-10 Batch 4:  Loss: 0.11249855160713196, acc: 0.6759998798370361\n",
      "Epoch 44, CIFAR-10 Batch 5:  Loss: 0.10521470010280609, acc: 0.6731998920440674\n",
      "Epoch 45, CIFAR-10 Batch 1:  Loss: 0.15375670790672302, acc: 0.6773998737335205\n",
      "Epoch 45, CIFAR-10 Batch 2:  Loss: 0.1445901095867157, acc: 0.6619998812675476\n",
      "Epoch 45, CIFAR-10 Batch 3:  Loss: 0.11026148498058319, acc: 0.6723998188972473\n",
      "Epoch 45, CIFAR-10 Batch 4:  Loss: 0.09943204373121262, acc: 0.6751999258995056\n",
      "Epoch 45, CIFAR-10 Batch 5:  Loss: 0.11560718715190887, acc: 0.6817998886108398\n",
      "Epoch 46, CIFAR-10 Batch 1:  Loss: 0.16703975200653076, acc: 0.6791999340057373\n",
      "Epoch 46, CIFAR-10 Batch 2:  Loss: 0.11847870796918869, acc: 0.6751999258995056\n",
      "Epoch 46, CIFAR-10 Batch 3:  Loss: 0.09400495886802673, acc: 0.6731998920440674\n",
      "Epoch 46, CIFAR-10 Batch 4:  Loss: 0.10446523874998093, acc: 0.6797999143600464\n",
      "Epoch 46, CIFAR-10 Batch 5:  Loss: 0.1423676460981369, acc: 0.6711999177932739\n",
      "Epoch 47, CIFAR-10 Batch 1:  Loss: 0.17888398468494415, acc: 0.6715998649597168\n",
      "Epoch 47, CIFAR-10 Batch 2:  Loss: 0.13868612051010132, acc: 0.6715998649597168\n",
      "Epoch 47, CIFAR-10 Batch 3:  Loss: 0.10693855583667755, acc: 0.6733998656272888\n",
      "Epoch 47, CIFAR-10 Batch 4:  Loss: 0.10394753515720367, acc: 0.6775999069213867\n",
      "Epoch 47, CIFAR-10 Batch 5:  Loss: 0.11257196962833405, acc: 0.6751998662948608\n",
      "Epoch 48, CIFAR-10 Batch 1:  Loss: 0.1594417244195938, acc: 0.6687999367713928\n",
      "Epoch 48, CIFAR-10 Batch 2:  Loss: 0.13817833364009857, acc: 0.671799898147583\n",
      "Epoch 48, CIFAR-10 Batch 3:  Loss: 0.10202392935752869, acc: 0.6719998121261597\n",
      "Epoch 48, CIFAR-10 Batch 4:  Loss: 0.08608250319957733, acc: 0.6797998547554016\n",
      "Epoch 48, CIFAR-10 Batch 5:  Loss: 0.07575471699237823, acc: 0.6667999029159546\n",
      "Epoch 49, CIFAR-10 Batch 1:  Loss: 0.14758530259132385, acc: 0.673599898815155\n",
      "Epoch 49, CIFAR-10 Batch 2:  Loss: 0.1247292011976242, acc: 0.6679998636245728\n",
      "Epoch 49, CIFAR-10 Batch 3:  Loss: 0.08718504756689072, acc: 0.6525998711585999\n",
      "Epoch 49, CIFAR-10 Batch 4:  Loss: 0.10201223194599152, acc: 0.6725999116897583\n",
      "Epoch 49, CIFAR-10 Batch 5:  Loss: 0.08959073573350906, acc: 0.6677998900413513\n",
      "Epoch 50, CIFAR-10 Batch 1:  Loss: 0.2092210352420807, acc: 0.6461998820304871\n",
      "Epoch 50, CIFAR-10 Batch 2:  Loss: 0.1059952899813652, acc: 0.6661999225616455\n",
      "Epoch 50, CIFAR-10 Batch 3:  Loss: 0.07545798271894455, acc: 0.6609998941421509\n",
      "Epoch 50, CIFAR-10 Batch 4:  Loss: 0.10465532541275024, acc: 0.6661998629570007\n",
      "Epoch 50, CIFAR-10 Batch 5:  Loss: 0.08775120228528976, acc: 0.6705998182296753\n"
     ]
    }
   ],
   "source": [
    "\"\"\"\n",
    "DON'T MODIFY ANYTHING IN THIS CELL\n",
    "\"\"\"\n",
    "save_model_path = './image_classification'\n",
    "\n",
    "print('Training...')\n",
    "with tf.Session() as sess:\n",
    "    # Initializing the variables\n",
    "    sess.run(tf.global_variables_initializer())\n",
    "    \n",
    "    # Training cycle\n",
    "    for epoch in range(epochs):\n",
    "        # Loop over all batches\n",
    "        n_batches = 5\n",
    "        for batch_i in range(1, n_batches + 1):\n",
    "            for batch_features, batch_labels in helper.load_preprocess_training_batch(batch_i, batch_size):\n",
    "                train_neural_network(sess, optimizer, keep_probability, batch_features, batch_labels)\n",
    "            print('Epoch {:>2}, CIFAR-10 Batch {}:  '.format(epoch + 1, batch_i), end='')\n",
    "            print_stats(sess, batch_features, batch_labels, cost, accuracy)\n",
    "            \n",
    "    # Save Model\n",
    "    saver = tf.train.Saver()\n",
    "    save_path = saver.save(sess, save_model_path)"
   ]
  },
  {
   "cell_type": "markdown",
   "metadata": {},
   "source": [
    "# Checkpoint\n",
    "The model has been saved to disk.\n",
    "## Test Model\n",
    "Test your model against the test dataset.  This will be your final accuracy. You should have an accuracy greater than 50%. If you don't, keep tweaking the model architecture and parameters."
   ]
  },
  {
   "cell_type": "code",
   "execution_count": 18,
   "metadata": {},
   "outputs": [
    {
     "name": "stdout",
     "output_type": "stream",
     "text": [
      "Testing Accuracy: 0.67451171875\n",
      "\n"
     ]
    },
    {
     "data": {
      "image/png": "[encoded data removed]",
      "text/plain": [
       "<matplotlib.figure.Figure at 0x7f5889048048>"
      ]
     },
     "metadata": {
      "image/png": {
       "height": 319,
       "width": 355
      }
     },
     "output_type": "display_data"
    }
   ],
   "source": [
    "\"\"\"\n",
    "DON'T MODIFY ANYTHING IN THIS CELL\n",
    "\"\"\"\n",
    "%matplotlib inline\n",
    "%config InlineBackend.figure_format = 'retina'\n",
    "\n",
    "import tensorflow as tf\n",
    "import pickle\n",
    "import helper\n",
    "import random\n",
    "\n",
    "# Set batch size if not already set\n",
    "try:\n",
    "    if batch_size:\n",
    "        pass\n",
    "except NameError:\n",
    "    batch_size = 64\n",
    "\n",
    "save_model_path = './image_classification'\n",
    "n_samples = 4\n",
    "top_n_predictions = 3\n",
    "\n",
    "def test_model():\n",
    "    \"\"\"\n",
    "    Test the saved model against the test dataset\n",
    "    \"\"\"\n",
    "\n",
    "    test_features, test_labels = pickle.load(open('preprocess_test.p', mode='rb'))\n",
    "    loaded_graph = tf.Graph()\n",
    "\n",
    "    with tf.Session(graph=loaded_graph) as sess:\n",
    "        # Load model\n",
    "        loader = tf.train.import_meta_graph(save_model_path + '.meta')\n",
    "        loader.restore(sess, save_model_path)\n",
    "\n",
    "        # Get Tensors from loaded model\n",
    "        loaded_x = loaded_graph.get_tensor_by_name('x:0')\n",
    "        loaded_y = loaded_graph.get_tensor_by_name('y:0')\n",
    "        loaded_keep_prob = loaded_graph.get_tensor_by_name('keep_prob:0')\n",
    "        loaded_logits = loaded_graph.get_tensor_by_name('logits:0')\n",
    "        loaded_acc = loaded_graph.get_tensor_by_name('accuracy:0')\n",
    "        \n",
    "        # Get accuracy in batches for memory limitations\n",
    "        test_batch_acc_total = 0\n",
    "        test_batch_count = 0\n",
    "        \n",
    "        for test_feature_batch, test_label_batch in helper.batch_features_labels(test_features, test_labels, batch_size):\n",
    "            test_batch_acc_total += sess.run(\n",
    "                loaded_acc,\n",
    "                feed_dict={loaded_x: test_feature_batch, loaded_y: test_label_batch, loaded_keep_prob: 1.0})\n",
    "            test_batch_count += 1\n",
    "\n",
    "        print('Testing Accuracy: {}\\n'.format(test_batch_acc_total/test_batch_count))\n",
    "\n",
    "        # Print Random Samples\n",
    "        random_test_features, random_test_labels = tuple(zip(*random.sample(list(zip(test_features, test_labels)), n_samples)))\n",
    "        random_test_predictions = sess.run(\n",
    "            tf.nn.top_k(tf.nn.softmax(loaded_logits), top_n_predictions),\n",
    "            feed_dict={loaded_x: random_test_features, loaded_y: random_test_labels, loaded_keep_prob: 1.0})\n",
    "        helper.display_image_predictions(random_test_features, random_test_labels, random_test_predictions)\n",
    "\n",
    "\n",
    "test_model()"
   ]
  },
  {
   "cell_type": "markdown",
   "metadata": {},
   "source": [
    "## Why 50-80% Accuracy?\n",
    "You might be wondering why you can't get an accuracy any higher. First things first, 50% isn't bad for a simple CNN.  Pure guessing would get you 10% accuracy. However, you might notice people are getting scores [well above 80%](http://rodrigob.github.io/are_we_there_yet/build/classification_datasets_results.html#43494641522d3130).  That's because we haven't taught you all there is to know about neural networks. We still need to cover a few more techniques.\n",
    "## Submitting This Project\n",
    "When submitting this project, make sure to run all the cells before saving the notebook.  Save the notebook file as \"dlnd_image_classification.ipynb\" and save it as a HTML file under \"File\" -> \"Download as\".  Include the \"helper.py\" and \"problem_unittests.py\" files in your submission."
   ]
  }
 ],
 "metadata": {
  "kernelspec": {
   "display_name": "Python 3",
   "language": "python",
   "name": "python3"
  },
  "language_info": {
   "codemirror_mode": {
    "name": "ipython",
    "version": 3
   },
   "file_extension": ".py",
   "mimetype": "text/x-python",
   "name": "python",
   "nbconvert_exporter": "python",
   "pygments_lexer": "ipython3",
   "version": "3.5.3"
  }
 },
 "nbformat": 4,
 "nbformat_minor": 1
}
